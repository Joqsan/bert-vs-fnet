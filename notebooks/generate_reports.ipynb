{
  "cells": [
    {
      "cell_type": "code",
      "execution_count": 1,
      "metadata": {
        "id": "dK0gE7xoE3Vv"
      },
      "outputs": [],
      "source": [
        "import numpy as np\n",
        "import pandas as pd\n",
        "from IPython.display import display"
      ]
    },
    {
      "attachments": {},
      "cell_type": "markdown",
      "metadata": {
        "id": "52sQDLR2HuAP"
      },
      "source": [
        "# Approximate computing time difference and GPU memory allocation"
      ]
    },
    {
      "cell_type": "code",
      "execution_count": 2,
      "metadata": {
        "id": "0ep9TEuRGRh9"
      },
      "outputs": [],
      "source": [
        "def compute_pct_change(new, old):\n",
        "  return np.abs((new - old) / old)"
      ]
    },
    {
      "cell_type": "markdown",
      "metadata": {
        "id": "n4hl94wLD-0q"
      },
      "source": [
        "## RTE\n",
        "\n"
      ]
    },
    {
      "cell_type": "code",
      "execution_count": 3,
      "metadata": {},
      "outputs": [],
      "source": [
        "# array[0] -- GPU usage (time units)\n",
        "# array[1] -- Memory allocation (%)"
      ]
    },
    {
      "cell_type": "code",
      "execution_count": 4,
      "metadata": {
        "id": "wkJfPz-jEn9I"
      },
      "outputs": [],
      "source": [
        "rte_fnet = np.array([434, 51.8]) ## seconds\n",
        "rte_bert = np.array([546, 79.81])"
      ]
    },
    {
      "cell_type": "code",
      "execution_count": 5,
      "metadata": {
        "colab": {
          "base_uri": "https://localhost:8080/"
        },
        "id": "kgJKL_L6Gf4u",
        "outputId": "847d2e30-1c06-4385-9643-47527e912c8b"
      },
      "outputs": [
        {
          "data": {
            "text/plain": [
              "array([0.20512821, 0.35095853])"
            ]
          },
          "execution_count": 5,
          "metadata": {},
          "output_type": "execute_result"
        }
      ],
      "source": [
        "compute_pct_change(rte_fnet, rte_bert)"
      ]
    },
    {
      "cell_type": "markdown",
      "metadata": {
        "id": "AqXkjmqjGK9e"
      },
      "source": [
        "## QNLI"
      ]
    },
    {
      "cell_type": "code",
      "execution_count": 6,
      "metadata": {
        "id": "JLiNQe0zGD91"
      },
      "outputs": [],
      "source": [
        "qnli_fnet = np.array([119, 82]) #minutes\n",
        "qnli_bert = np.array([157, 87])"
      ]
    },
    {
      "cell_type": "code",
      "execution_count": 7,
      "metadata": {
        "colab": {
          "base_uri": "https://localhost:8080/"
        },
        "id": "uuBbqJeeGw2J",
        "outputId": "cf3d9524-073e-4b7e-a5ca-2e4bf259cf23"
      },
      "outputs": [
        {
          "data": {
            "text/plain": [
              "array([0.24203822, 0.05747126])"
            ]
          },
          "execution_count": 7,
          "metadata": {},
          "output_type": "execute_result"
        }
      ],
      "source": [
        "compute_pct_change(qnli_fnet, qnli_bert)"
      ]
    },
    {
      "cell_type": "markdown",
      "metadata": {
        "id": "Jgy6a7xJHVPe"
      },
      "source": [
        "## COLA"
      ]
    },
    {
      "cell_type": "code",
      "execution_count": 8,
      "metadata": {
        "id": "8Eeyk8EAGzxp"
      },
      "outputs": [],
      "source": [
        "qnli_fnet = np.array([443, 20]) #second\n",
        "qnli_bert = np.array([550, 23])"
      ]
    },
    {
      "cell_type": "code",
      "execution_count": 9,
      "metadata": {
        "colab": {
          "base_uri": "https://localhost:8080/"
        },
        "id": "LyH4Im5JHgTC",
        "outputId": "da30df43-9685-4fcf-b4ae-252c2f0c5243"
      },
      "outputs": [
        {
          "data": {
            "text/plain": [
              "array([0.19454545, 0.13043478])"
            ]
          },
          "execution_count": 9,
          "metadata": {},
          "output_type": "execute_result"
        }
      ],
      "source": [
        "compute_pct_change(qnli_fnet, qnli_bert)"
      ]
    },
    {
      "cell_type": "markdown",
      "metadata": {
        "id": "Ysd7OhWkHsSw"
      },
      "source": [
        "# METRICS"
      ]
    },
    {
      "cell_type": "code",
      "execution_count": 10,
      "metadata": {
        "id": "zIp1U29YNMDN"
      },
      "outputs": [],
      "source": [
        "train_metrics_cols = [\n",
        "    'train/train_steps_per_second',\n",
        "    'train/train_samples_per_second',\n",
        "    'train/train_runtime',\n",
        "    'train/total_flos',\n",
        "]\n",
        "\n",
        "test_metrics_cols = [\n",
        "    'eval/steps_per_second',\n",
        "    'eval/samples_per_second',\n",
        "    'eval/runtime',\n",
        "]\n",
        "\n",
        "metrics = [\n",
        "    'train/loss',\n",
        "    'eval/loss',\n",
        "]"
      ]
    },
    {
      "cell_type": "code",
      "execution_count": 11,
      "metadata": {},
      "outputs": [],
      "source": [
        "def generate_train_test_reports(csv_filepath, task):\n",
        "    df = pd.read_csv(csv_filepath, index_col=0)\n",
        "    df = df.iloc[[1, 0]] # make bert the reference value\n",
        "    df.index.names = ['Models']\n",
        "    \n",
        "    task_metric = 'eval/matthews_correlation' if task == 'cola' else 'eval/accuracy'\n",
        "\n",
        "    curr_metrics = metrics + [task_metric]\n",
        "\n",
        "    def add_pct_change_last_row(df):\n",
        "        df.loc['pct change'] = df.pct_change().iloc[-1]\n",
        "        return df\n",
        "    \n",
        "    list_cols = [train_metrics_cols, test_metrics_cols, curr_metrics]\n",
        "    dfs_final = []\n",
        "\n",
        "    for cols in list_cols:\n",
        "        df_new = df[cols].astype(float)\n",
        "        df_new = add_pct_change_last_row(df_new)\n",
        "        \n",
        "        dfs_final.append(df_new)\n",
        "\n",
        "    return dfs_final"
      ]
    },
    {
      "cell_type": "code",
      "execution_count": 12,
      "metadata": {},
      "outputs": [],
      "source": [
        "csv_filepaths = {\n",
        "    'qnli': '../reports/qnli_wandb_export_2023-01-31T13_32_02.342+03_00.csv',\n",
        "    'cola': '../reports/cola_wandb_export_2023-01-31T13_32_22.721+03_00.csv',\n",
        "    'rte': '../reports/rte_wandb_export_2023-01-31T13_32_45.655+03_00.csv'\n",
        "}"
      ]
    },
    {
      "cell_type": "code",
      "execution_count": 13,
      "metadata": {},
      "outputs": [],
      "source": [
        "def show_reports(csv_filepath, task):\n",
        "    dfs = generate_train_test_reports(csv_filepath, task)\n",
        "\n",
        "    for df in dfs:\n",
        "        display(df)"
      ]
    },
    {
      "cell_type": "code",
      "execution_count": 14,
      "metadata": {},
      "outputs": [
        {
          "data": {
            "text/html": [
              "<div>\n",
              "<style scoped>\n",
              "    .dataframe tbody tr th:only-of-type {\n",
              "        vertical-align: middle;\n",
              "    }\n",
              "\n",
              "    .dataframe tbody tr th {\n",
              "        vertical-align: top;\n",
              "    }\n",
              "\n",
              "    .dataframe thead th {\n",
              "        text-align: right;\n",
              "    }\n",
              "</style>\n",
              "<table border=\"1\" class=\"dataframe\">\n",
              "  <thead>\n",
              "    <tr style=\"text-align: right;\">\n",
              "      <th></th>\n",
              "      <th>train/train_steps_per_second</th>\n",
              "      <th>train/train_samples_per_second</th>\n",
              "      <th>train/train_runtime</th>\n",
              "      <th>train/total_flos</th>\n",
              "    </tr>\n",
              "    <tr>\n",
              "      <th>Models</th>\n",
              "      <th></th>\n",
              "      <th></th>\n",
              "      <th></th>\n",
              "      <th></th>\n",
              "    </tr>\n",
              "  </thead>\n",
              "  <tbody>\n",
              "    <tr>\n",
              "      <th>bert-base-uncased-qnli</th>\n",
              "      <td>3.548000</td>\n",
              "      <td>56.759000</td>\n",
              "      <td>9226.963100</td>\n",
              "      <td>2.406621e+16</td>\n",
              "    </tr>\n",
              "    <tr>\n",
              "      <th>custom-fnet-qnli</th>\n",
              "      <td>4.687000</td>\n",
              "      <td>74.982000</td>\n",
              "      <td>6984.579100</td>\n",
              "      <td>1.809201e+16</td>\n",
              "    </tr>\n",
              "    <tr>\n",
              "      <th>pct change</th>\n",
              "      <td>0.321026</td>\n",
              "      <td>0.321059</td>\n",
              "      <td>-0.243025</td>\n",
              "      <td>-2.482402e-01</td>\n",
              "    </tr>\n",
              "  </tbody>\n",
              "</table>\n",
              "</div>"
            ],
            "text/plain": [
              "                        train/train_steps_per_second  \\\n",
              "Models                                                 \n",
              "bert-base-uncased-qnli                      3.548000   \n",
              "custom-fnet-qnli                            4.687000   \n",
              "pct change                                  0.321026   \n",
              "\n",
              "                        train/train_samples_per_second  train/train_runtime  \\\n",
              "Models                                                                        \n",
              "bert-base-uncased-qnli                       56.759000          9226.963100   \n",
              "custom-fnet-qnli                             74.982000          6984.579100   \n",
              "pct change                                    0.321059            -0.243025   \n",
              "\n",
              "                        train/total_flos  \n",
              "Models                                    \n",
              "bert-base-uncased-qnli      2.406621e+16  \n",
              "custom-fnet-qnli            1.809201e+16  \n",
              "pct change                 -2.482402e-01  "
            ]
          },
          "metadata": {},
          "output_type": "display_data"
        },
        {
          "data": {
            "text/html": [
              "<div>\n",
              "<style scoped>\n",
              "    .dataframe tbody tr th:only-of-type {\n",
              "        vertical-align: middle;\n",
              "    }\n",
              "\n",
              "    .dataframe tbody tr th {\n",
              "        vertical-align: top;\n",
              "    }\n",
              "\n",
              "    .dataframe thead th {\n",
              "        text-align: right;\n",
              "    }\n",
              "</style>\n",
              "<table border=\"1\" class=\"dataframe\">\n",
              "  <thead>\n",
              "    <tr style=\"text-align: right;\">\n",
              "      <th></th>\n",
              "      <th>eval/steps_per_second</th>\n",
              "      <th>eval/samples_per_second</th>\n",
              "      <th>eval/runtime</th>\n",
              "    </tr>\n",
              "    <tr>\n",
              "      <th>Models</th>\n",
              "      <th></th>\n",
              "      <th></th>\n",
              "      <th></th>\n",
              "    </tr>\n",
              "  </thead>\n",
              "  <tbody>\n",
              "    <tr>\n",
              "      <th>bert-base-uncased-qnli</th>\n",
              "      <td>11.008000</td>\n",
              "      <td>175.8350</td>\n",
              "      <td>31.068900</td>\n",
              "    </tr>\n",
              "    <tr>\n",
              "      <th>custom-fnet-qnli</th>\n",
              "      <td>14.732000</td>\n",
              "      <td>235.3200</td>\n",
              "      <td>23.215200</td>\n",
              "    </tr>\n",
              "    <tr>\n",
              "      <th>pct change</th>\n",
              "      <td>0.338299</td>\n",
              "      <td>0.3383</td>\n",
              "      <td>-0.252783</td>\n",
              "    </tr>\n",
              "  </tbody>\n",
              "</table>\n",
              "</div>"
            ],
            "text/plain": [
              "                        eval/steps_per_second  eval/samples_per_second  \\\n",
              "Models                                                                   \n",
              "bert-base-uncased-qnli              11.008000                 175.8350   \n",
              "custom-fnet-qnli                    14.732000                 235.3200   \n",
              "pct change                           0.338299                   0.3383   \n",
              "\n",
              "                        eval/runtime  \n",
              "Models                                \n",
              "bert-base-uncased-qnli     31.068900  \n",
              "custom-fnet-qnli           23.215200  \n",
              "pct change                 -0.252783  "
            ]
          },
          "metadata": {},
          "output_type": "display_data"
        },
        {
          "data": {
            "text/html": [
              "<div>\n",
              "<style scoped>\n",
              "    .dataframe tbody tr th:only-of-type {\n",
              "        vertical-align: middle;\n",
              "    }\n",
              "\n",
              "    .dataframe tbody tr th {\n",
              "        vertical-align: top;\n",
              "    }\n",
              "\n",
              "    .dataframe thead th {\n",
              "        text-align: right;\n",
              "    }\n",
              "</style>\n",
              "<table border=\"1\" class=\"dataframe\">\n",
              "  <thead>\n",
              "    <tr style=\"text-align: right;\">\n",
              "      <th></th>\n",
              "      <th>train/loss</th>\n",
              "      <th>eval/loss</th>\n",
              "      <th>eval/accuracy</th>\n",
              "    </tr>\n",
              "    <tr>\n",
              "      <th>Models</th>\n",
              "      <th></th>\n",
              "      <th></th>\n",
              "      <th></th>\n",
              "    </tr>\n",
              "  </thead>\n",
              "  <tbody>\n",
              "    <tr>\n",
              "      <th>bert-base-uncased-qnli</th>\n",
              "      <td>0.031900</td>\n",
              "      <td>0.556269</td>\n",
              "      <td>0.915614</td>\n",
              "    </tr>\n",
              "    <tr>\n",
              "      <th>custom-fnet-qnli</th>\n",
              "      <td>0.641500</td>\n",
              "      <td>0.662218</td>\n",
              "      <td>0.600952</td>\n",
              "    </tr>\n",
              "    <tr>\n",
              "      <th>pct change</th>\n",
              "      <td>19.109718</td>\n",
              "      <td>0.190465</td>\n",
              "      <td>-0.343663</td>\n",
              "    </tr>\n",
              "  </tbody>\n",
              "</table>\n",
              "</div>"
            ],
            "text/plain": [
              "                        train/loss  eval/loss  eval/accuracy\n",
              "Models                                                      \n",
              "bert-base-uncased-qnli    0.031900   0.556269       0.915614\n",
              "custom-fnet-qnli          0.641500   0.662218       0.600952\n",
              "pct change               19.109718   0.190465      -0.343663"
            ]
          },
          "metadata": {},
          "output_type": "display_data"
        },
        {
          "data": {
            "text/html": [
              "<div>\n",
              "<style scoped>\n",
              "    .dataframe tbody tr th:only-of-type {\n",
              "        vertical-align: middle;\n",
              "    }\n",
              "\n",
              "    .dataframe tbody tr th {\n",
              "        vertical-align: top;\n",
              "    }\n",
              "\n",
              "    .dataframe thead th {\n",
              "        text-align: right;\n",
              "    }\n",
              "</style>\n",
              "<table border=\"1\" class=\"dataframe\">\n",
              "  <thead>\n",
              "    <tr style=\"text-align: right;\">\n",
              "      <th></th>\n",
              "      <th>train/train_steps_per_second</th>\n",
              "      <th>train/train_samples_per_second</th>\n",
              "      <th>train/train_runtime</th>\n",
              "      <th>train/total_flos</th>\n",
              "    </tr>\n",
              "    <tr>\n",
              "      <th>Models</th>\n",
              "      <th></th>\n",
              "      <th></th>\n",
              "      <th></th>\n",
              "      <th></th>\n",
              "    </tr>\n",
              "  </thead>\n",
              "  <tbody>\n",
              "    <tr>\n",
              "      <th>bert-base-uncased-cola</th>\n",
              "      <td>8.449000</td>\n",
              "      <td>135.046000</td>\n",
              "      <td>316.596500</td>\n",
              "      <td>4.554627e+14</td>\n",
              "    </tr>\n",
              "    <tr>\n",
              "      <th>custom-fnet-cola</th>\n",
              "      <td>11.000000</td>\n",
              "      <td>175.823000</td>\n",
              "      <td>243.171100</td>\n",
              "      <td>3.423985e+14</td>\n",
              "    </tr>\n",
              "    <tr>\n",
              "      <th>pct change</th>\n",
              "      <td>0.301929</td>\n",
              "      <td>0.301949</td>\n",
              "      <td>-0.231921</td>\n",
              "      <td>-2.482402e-01</td>\n",
              "    </tr>\n",
              "  </tbody>\n",
              "</table>\n",
              "</div>"
            ],
            "text/plain": [
              "                        train/train_steps_per_second  \\\n",
              "Models                                                 \n",
              "bert-base-uncased-cola                      8.449000   \n",
              "custom-fnet-cola                           11.000000   \n",
              "pct change                                  0.301929   \n",
              "\n",
              "                        train/train_samples_per_second  train/train_runtime  \\\n",
              "Models                                                                        \n",
              "bert-base-uncased-cola                      135.046000           316.596500   \n",
              "custom-fnet-cola                            175.823000           243.171100   \n",
              "pct change                                    0.301949            -0.231921   \n",
              "\n",
              "                        train/total_flos  \n",
              "Models                                    \n",
              "bert-base-uncased-cola      4.554627e+14  \n",
              "custom-fnet-cola            3.423985e+14  \n",
              "pct change                 -2.482402e-01  "
            ]
          },
          "metadata": {},
          "output_type": "display_data"
        },
        {
          "data": {
            "text/html": [
              "<div>\n",
              "<style scoped>\n",
              "    .dataframe tbody tr th:only-of-type {\n",
              "        vertical-align: middle;\n",
              "    }\n",
              "\n",
              "    .dataframe tbody tr th {\n",
              "        vertical-align: top;\n",
              "    }\n",
              "\n",
              "    .dataframe thead th {\n",
              "        text-align: right;\n",
              "    }\n",
              "</style>\n",
              "<table border=\"1\" class=\"dataframe\">\n",
              "  <thead>\n",
              "    <tr style=\"text-align: right;\">\n",
              "      <th></th>\n",
              "      <th>eval/steps_per_second</th>\n",
              "      <th>eval/samples_per_second</th>\n",
              "      <th>eval/runtime</th>\n",
              "    </tr>\n",
              "    <tr>\n",
              "      <th>Models</th>\n",
              "      <th></th>\n",
              "      <th></th>\n",
              "      <th></th>\n",
              "    </tr>\n",
              "  </thead>\n",
              "  <tbody>\n",
              "    <tr>\n",
              "      <th>bert-base-uncased-cola</th>\n",
              "      <td>48.269000</td>\n",
              "      <td>762.801000</td>\n",
              "      <td>1.367300</td>\n",
              "    </tr>\n",
              "    <tr>\n",
              "      <th>custom-fnet-cola</th>\n",
              "      <td>63.200000</td>\n",
              "      <td>998.753000</td>\n",
              "      <td>1.044300</td>\n",
              "    </tr>\n",
              "    <tr>\n",
              "      <th>pct change</th>\n",
              "      <td>0.309329</td>\n",
              "      <td>0.309323</td>\n",
              "      <td>-0.236232</td>\n",
              "    </tr>\n",
              "  </tbody>\n",
              "</table>\n",
              "</div>"
            ],
            "text/plain": [
              "                        eval/steps_per_second  eval/samples_per_second  \\\n",
              "Models                                                                   \n",
              "bert-base-uncased-cola              48.269000               762.801000   \n",
              "custom-fnet-cola                    63.200000               998.753000   \n",
              "pct change                           0.309329                 0.309323   \n",
              "\n",
              "                        eval/runtime  \n",
              "Models                                \n",
              "bert-base-uncased-cola      1.367300  \n",
              "custom-fnet-cola            1.044300  \n",
              "pct change                 -0.236232  "
            ]
          },
          "metadata": {},
          "output_type": "display_data"
        },
        {
          "data": {
            "text/html": [
              "<div>\n",
              "<style scoped>\n",
              "    .dataframe tbody tr th:only-of-type {\n",
              "        vertical-align: middle;\n",
              "    }\n",
              "\n",
              "    .dataframe tbody tr th {\n",
              "        vertical-align: top;\n",
              "    }\n",
              "\n",
              "    .dataframe thead th {\n",
              "        text-align: right;\n",
              "    }\n",
              "</style>\n",
              "<table border=\"1\" class=\"dataframe\">\n",
              "  <thead>\n",
              "    <tr style=\"text-align: right;\">\n",
              "      <th></th>\n",
              "      <th>train/loss</th>\n",
              "      <th>eval/loss</th>\n",
              "      <th>eval/matthews_correlation</th>\n",
              "    </tr>\n",
              "    <tr>\n",
              "      <th>Models</th>\n",
              "      <th></th>\n",
              "      <th></th>\n",
              "      <th></th>\n",
              "    </tr>\n",
              "  </thead>\n",
              "  <tbody>\n",
              "    <tr>\n",
              "      <th>bert-base-uncased-cola</th>\n",
              "      <td>0.080100</td>\n",
              "      <td>0.871127</td>\n",
              "      <td>0.558035</td>\n",
              "    </tr>\n",
              "    <tr>\n",
              "      <th>custom-fnet-cola</th>\n",
              "      <td>0.610400</td>\n",
              "      <td>0.619749</td>\n",
              "      <td>0.000000</td>\n",
              "    </tr>\n",
              "    <tr>\n",
              "      <th>pct change</th>\n",
              "      <td>6.620474</td>\n",
              "      <td>-0.288567</td>\n",
              "      <td>-1.000000</td>\n",
              "    </tr>\n",
              "  </tbody>\n",
              "</table>\n",
              "</div>"
            ],
            "text/plain": [
              "                        train/loss  eval/loss  eval/matthews_correlation\n",
              "Models                                                                  \n",
              "bert-base-uncased-cola    0.080100   0.871127                   0.558035\n",
              "custom-fnet-cola          0.610400   0.619749                   0.000000\n",
              "pct change                6.620474  -0.288567                  -1.000000"
            ]
          },
          "metadata": {},
          "output_type": "display_data"
        },
        {
          "data": {
            "text/html": [
              "<div>\n",
              "<style scoped>\n",
              "    .dataframe tbody tr th:only-of-type {\n",
              "        vertical-align: middle;\n",
              "    }\n",
              "\n",
              "    .dataframe tbody tr th {\n",
              "        vertical-align: top;\n",
              "    }\n",
              "\n",
              "    .dataframe thead th {\n",
              "        text-align: right;\n",
              "    }\n",
              "</style>\n",
              "<table border=\"1\" class=\"dataframe\">\n",
              "  <thead>\n",
              "    <tr style=\"text-align: right;\">\n",
              "      <th></th>\n",
              "      <th>train/train_steps_per_second</th>\n",
              "      <th>train/train_samples_per_second</th>\n",
              "      <th>train/train_runtime</th>\n",
              "      <th>train/total_flos</th>\n",
              "    </tr>\n",
              "    <tr>\n",
              "      <th>Models</th>\n",
              "      <th></th>\n",
              "      <th></th>\n",
              "      <th></th>\n",
              "      <th></th>\n",
              "    </tr>\n",
              "  </thead>\n",
              "  <tbody>\n",
              "    <tr>\n",
              "      <th>bert-base-uncased-rte</th>\n",
              "      <td>1.919000</td>\n",
              "      <td>30.637000</td>\n",
              "      <td>406.377300</td>\n",
              "      <td>1.046969e+15</td>\n",
              "    </tr>\n",
              "    <tr>\n",
              "      <th>custom-fnet-rte</th>\n",
              "      <td>2.526000</td>\n",
              "      <td>40.324000</td>\n",
              "      <td>308.747900</td>\n",
              "      <td>7.870694e+14</td>\n",
              "    </tr>\n",
              "    <tr>\n",
              "      <th>pct change</th>\n",
              "      <td>0.316311</td>\n",
              "      <td>0.316186</td>\n",
              "      <td>-0.240243</td>\n",
              "      <td>-2.482402e-01</td>\n",
              "    </tr>\n",
              "  </tbody>\n",
              "</table>\n",
              "</div>"
            ],
            "text/plain": [
              "                       train/train_steps_per_second  \\\n",
              "Models                                                \n",
              "bert-base-uncased-rte                      1.919000   \n",
              "custom-fnet-rte                            2.526000   \n",
              "pct change                                 0.316311   \n",
              "\n",
              "                       train/train_samples_per_second  train/train_runtime  \\\n",
              "Models                                                                       \n",
              "bert-base-uncased-rte                       30.637000           406.377300   \n",
              "custom-fnet-rte                             40.324000           308.747900   \n",
              "pct change                                   0.316186            -0.240243   \n",
              "\n",
              "                       train/total_flos  \n",
              "Models                                   \n",
              "bert-base-uncased-rte      1.046969e+15  \n",
              "custom-fnet-rte            7.870694e+14  \n",
              "pct change                -2.482402e-01  "
            ]
          },
          "metadata": {},
          "output_type": "display_data"
        },
        {
          "data": {
            "text/html": [
              "<div>\n",
              "<style scoped>\n",
              "    .dataframe tbody tr th:only-of-type {\n",
              "        vertical-align: middle;\n",
              "    }\n",
              "\n",
              "    .dataframe tbody tr th {\n",
              "        vertical-align: top;\n",
              "    }\n",
              "\n",
              "    .dataframe thead th {\n",
              "        text-align: right;\n",
              "    }\n",
              "</style>\n",
              "<table border=\"1\" class=\"dataframe\">\n",
              "  <thead>\n",
              "    <tr style=\"text-align: right;\">\n",
              "      <th></th>\n",
              "      <th>eval/steps_per_second</th>\n",
              "      <th>eval/samples_per_second</th>\n",
              "      <th>eval/runtime</th>\n",
              "    </tr>\n",
              "    <tr>\n",
              "      <th>Models</th>\n",
              "      <th></th>\n",
              "      <th></th>\n",
              "      <th></th>\n",
              "    </tr>\n",
              "  </thead>\n",
              "  <tbody>\n",
              "    <tr>\n",
              "      <th>bert-base-uncased-rte</th>\n",
              "      <td>6.201000</td>\n",
              "      <td>95.42300</td>\n",
              "      <td>2.902900</td>\n",
              "    </tr>\n",
              "    <tr>\n",
              "      <th>custom-fnet-rte</th>\n",
              "      <td>8.222000</td>\n",
              "      <td>126.52900</td>\n",
              "      <td>2.189200</td>\n",
              "    </tr>\n",
              "    <tr>\n",
              "      <th>pct change</th>\n",
              "      <td>0.325915</td>\n",
              "      <td>0.32598</td>\n",
              "      <td>-0.245858</td>\n",
              "    </tr>\n",
              "  </tbody>\n",
              "</table>\n",
              "</div>"
            ],
            "text/plain": [
              "                       eval/steps_per_second  eval/samples_per_second  \\\n",
              "Models                                                                  \n",
              "bert-base-uncased-rte               6.201000                 95.42300   \n",
              "custom-fnet-rte                     8.222000                126.52900   \n",
              "pct change                          0.325915                  0.32598   \n",
              "\n",
              "                       eval/runtime  \n",
              "Models                               \n",
              "bert-base-uncased-rte      2.902900  \n",
              "custom-fnet-rte            2.189200  \n",
              "pct change                -0.245858  "
            ]
          },
          "metadata": {},
          "output_type": "display_data"
        },
        {
          "data": {
            "text/html": [
              "<div>\n",
              "<style scoped>\n",
              "    .dataframe tbody tr th:only-of-type {\n",
              "        vertical-align: middle;\n",
              "    }\n",
              "\n",
              "    .dataframe tbody tr th {\n",
              "        vertical-align: top;\n",
              "    }\n",
              "\n",
              "    .dataframe thead th {\n",
              "        text-align: right;\n",
              "    }\n",
              "</style>\n",
              "<table border=\"1\" class=\"dataframe\">\n",
              "  <thead>\n",
              "    <tr style=\"text-align: right;\">\n",
              "      <th></th>\n",
              "      <th>train/loss</th>\n",
              "      <th>eval/loss</th>\n",
              "      <th>eval/accuracy</th>\n",
              "    </tr>\n",
              "    <tr>\n",
              "      <th>Models</th>\n",
              "      <th></th>\n",
              "      <th></th>\n",
              "      <th></th>\n",
              "    </tr>\n",
              "  </thead>\n",
              "  <tbody>\n",
              "    <tr>\n",
              "      <th>bert-base-uncased-rte</th>\n",
              "      <td>0.521400</td>\n",
              "      <td>1.074684</td>\n",
              "      <td>0.657040</td>\n",
              "    </tr>\n",
              "    <tr>\n",
              "      <th>custom-fnet-rte</th>\n",
              "      <td>0.701000</td>\n",
              "      <td>0.693157</td>\n",
              "      <td>0.483755</td>\n",
              "    </tr>\n",
              "    <tr>\n",
              "      <th>pct change</th>\n",
              "      <td>0.344457</td>\n",
              "      <td>-0.355014</td>\n",
              "      <td>-0.263736</td>\n",
              "    </tr>\n",
              "  </tbody>\n",
              "</table>\n",
              "</div>"
            ],
            "text/plain": [
              "                       train/loss  eval/loss  eval/accuracy\n",
              "Models                                                     \n",
              "bert-base-uncased-rte    0.521400   1.074684       0.657040\n",
              "custom-fnet-rte          0.701000   0.693157       0.483755\n",
              "pct change               0.344457  -0.355014      -0.263736"
            ]
          },
          "metadata": {},
          "output_type": "display_data"
        }
      ],
      "source": [
        "for task, csv_filepath in csv_filepaths.items():\n",
        "    show_reports(csv_filepath, task)"
      ]
    },
    {
      "attachments": {},
      "cell_type": "markdown",
      "metadata": {},
      "source": [
        "## Get training parameter values\n",
        "\n",
        "- We use the same value across all tasks and models."
      ]
    },
    {
      "cell_type": "code",
      "execution_count": 15,
      "metadata": {},
      "outputs": [],
      "source": [
        "df = pd.read_csv(csv_filepaths['qnli'])"
      ]
    },
    {
      "cell_type": "code",
      "execution_count": 16,
      "metadata": {},
      "outputs": [],
      "source": [
        "params = [\n",
        "    'adam_beta1',\n",
        "    'adam_beta2',\n",
        "    'weight_decay',\n",
        "    'learning_rate',\n",
        "    'max_grad_norm',\n",
        "    'eval_batch_size',\n",
        "    'num_train_epochs',\n",
        "    'train_batch_size',\n",
        "    'lr_scheduler_type',\n",
        "    'hidden_dropout_prob'\n",
        "]"
      ]
    },
    {
      "cell_type": "code",
      "execution_count": 17,
      "metadata": {},
      "outputs": [
        {
          "data": {
            "text/html": [
              "<div>\n",
              "<style scoped>\n",
              "    .dataframe tbody tr th:only-of-type {\n",
              "        vertical-align: middle;\n",
              "    }\n",
              "\n",
              "    .dataframe tbody tr th {\n",
              "        vertical-align: top;\n",
              "    }\n",
              "\n",
              "    .dataframe thead th {\n",
              "        text-align: right;\n",
              "    }\n",
              "</style>\n",
              "<table border=\"1\" class=\"dataframe\">\n",
              "  <thead>\n",
              "    <tr style=\"text-align: right;\">\n",
              "      <th></th>\n",
              "      <th>values</th>\n",
              "    </tr>\n",
              "  </thead>\n",
              "  <tbody>\n",
              "    <tr>\n",
              "      <th>adam_beta1</th>\n",
              "      <td>0.9</td>\n",
              "    </tr>\n",
              "    <tr>\n",
              "      <th>adam_beta2</th>\n",
              "      <td>0.999</td>\n",
              "    </tr>\n",
              "    <tr>\n",
              "      <th>weight_decay</th>\n",
              "      <td>0.01</td>\n",
              "    </tr>\n",
              "    <tr>\n",
              "      <th>learning_rate</th>\n",
              "      <td>0.00002</td>\n",
              "    </tr>\n",
              "    <tr>\n",
              "      <th>max_grad_norm</th>\n",
              "      <td>1</td>\n",
              "    </tr>\n",
              "    <tr>\n",
              "      <th>eval_batch_size</th>\n",
              "      <td>16</td>\n",
              "    </tr>\n",
              "    <tr>\n",
              "      <th>num_train_epochs</th>\n",
              "      <td>5</td>\n",
              "    </tr>\n",
              "    <tr>\n",
              "      <th>train_batch_size</th>\n",
              "      <td>16</td>\n",
              "    </tr>\n",
              "    <tr>\n",
              "      <th>lr_scheduler_type</th>\n",
              "      <td>linear</td>\n",
              "    </tr>\n",
              "    <tr>\n",
              "      <th>hidden_dropout_prob</th>\n",
              "      <td>0.1</td>\n",
              "    </tr>\n",
              "  </tbody>\n",
              "</table>\n",
              "</div>"
            ],
            "text/plain": [
              "                      values\n",
              "adam_beta1               0.9\n",
              "adam_beta2             0.999\n",
              "weight_decay            0.01\n",
              "learning_rate        0.00002\n",
              "max_grad_norm              1\n",
              "eval_batch_size           16\n",
              "num_train_epochs           5\n",
              "train_batch_size          16\n",
              "lr_scheduler_type     linear\n",
              "hidden_dropout_prob      0.1"
            ]
          },
          "execution_count": 17,
          "metadata": {},
          "output_type": "execute_result"
        }
      ],
      "source": [
        "df[params].drop(index=1).T.rename(columns={0: 'values'})"
      ]
    },
    {
      "cell_type": "code",
      "execution_count": null,
      "metadata": {},
      "outputs": [],
      "source": []
    }
  ],
  "metadata": {
    "colab": {
      "provenance": []
    },
    "kernelspec": {
      "display_name": "bert_vs_fnet_env",
      "language": "python",
      "name": "python3"
    },
    "language_info": {
      "codemirror_mode": {
        "name": "ipython",
        "version": 3
      },
      "file_extension": ".py",
      "mimetype": "text/x-python",
      "name": "python",
      "nbconvert_exporter": "python",
      "pygments_lexer": "ipython3",
      "version": "3.10.4"
    },
    "vscode": {
      "interpreter": {
        "hash": "d7aa4b1e07053059ce5eda710705e1b207ce59f8b6e613bc1d139e66019a6b27"
      }
    }
  },
  "nbformat": 4,
  "nbformat_minor": 0
}
